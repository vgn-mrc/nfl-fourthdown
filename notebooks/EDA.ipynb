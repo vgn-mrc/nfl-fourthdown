{
 "cells": [
  {
   "cell_type": "markdown",
   "id": "d1aafbc5",
   "metadata": {},
   "source": [
    "# NFL - 4th Down EDA"
   ]
  },
  {
   "cell_type": "code",
   "execution_count": 4,
   "id": "3720c428",
   "metadata": {},
   "outputs": [],
   "source": [
    "import pandas as pd\n",
    "import glob\n",
    "\n",
    "RAW_DATA_PATH = \"../data/raw/\"\n",
    "\n",
    "# set no limit on rows and columns displayed\n",
    "pd.set_option('display.max_rows', None)\n",
    "pd.set_option('display.max_columns', None)"
   ]
  },
  {
   "cell_type": "markdown",
   "id": "a2e121af",
   "metadata": {},
   "source": [
    "### Data load"
   ]
  },
  {
   "cell_type": "code",
   "execution_count": null,
   "id": "bac3c1d0",
   "metadata": {},
   "outputs": [
    {
     "name": "stdout",
     "output_type": "stream",
     "text": [
      "Columns in the dataset: ['play_id', 'game_id', 'old_game_id', 'home_team', 'away_team', 'season_type', 'week', 'posteam', 'posteam_type', 'defteam', 'side_of_field', 'yardline_100', 'game_date', 'quarter_seconds_remaining', 'half_seconds_remaining', 'game_seconds_remaining', 'game_half', 'quarter_end', 'drive', 'sp', 'qtr', 'down', 'goal_to_go', 'time', 'yrdln', 'ydstogo', 'ydsnet', 'desc', 'play_type', 'yards_gained', 'shotgun', 'no_huddle', 'qb_dropback', 'qb_kneel', 'qb_spike', 'qb_scramble', 'pass_length', 'pass_location', 'air_yards', 'yards_after_catch', 'run_location', 'run_gap', 'field_goal_result', 'kick_distance', 'extra_point_result', 'two_point_conv_result', 'home_timeouts_remaining', 'away_timeouts_remaining', 'timeout', 'timeout_team', 'td_team', 'td_player_name', 'td_player_id', 'posteam_timeouts_remaining', 'defteam_timeouts_remaining', 'total_home_score', 'total_away_score', 'posteam_score', 'defteam_score', 'score_differential', 'posteam_score_post', 'defteam_score_post', 'score_differential_post', 'no_score_prob', 'opp_fg_prob', 'opp_safety_prob', 'opp_td_prob', 'fg_prob', 'safety_prob', 'td_prob', 'extra_point_prob', 'two_point_conversion_prob', 'ep', 'epa', 'total_home_epa', 'total_away_epa', 'total_home_rush_epa', 'total_away_rush_epa', 'total_home_pass_epa', 'total_away_pass_epa', 'air_epa', 'yac_epa', 'comp_air_epa', 'comp_yac_epa', 'total_home_comp_air_epa', 'total_away_comp_air_epa', 'total_home_comp_yac_epa', 'total_away_comp_yac_epa', 'total_home_raw_air_epa', 'total_away_raw_air_epa', 'total_home_raw_yac_epa', 'total_away_raw_yac_epa', 'wp', 'def_wp', 'home_wp', 'away_wp', 'wpa', 'vegas_wpa', 'vegas_home_wpa', 'home_wp_post', 'away_wp_post', 'vegas_wp', 'vegas_home_wp', 'total_home_rush_wpa', 'total_away_rush_wpa', 'total_home_pass_wpa', 'total_away_pass_wpa', 'air_wpa', 'yac_wpa', 'comp_air_wpa', 'comp_yac_wpa', 'total_home_comp_air_wpa', 'total_away_comp_air_wpa', 'total_home_comp_yac_wpa', 'total_away_comp_yac_wpa', 'total_home_raw_air_wpa', 'total_away_raw_air_wpa', 'total_home_raw_yac_wpa', 'total_away_raw_yac_wpa', 'punt_blocked', 'first_down_rush', 'first_down_pass', 'first_down_penalty', 'third_down_converted', 'third_down_failed', 'fourth_down_converted', 'fourth_down_failed', 'incomplete_pass', 'touchback', 'interception', 'punt_inside_twenty', 'punt_in_endzone', 'punt_out_of_bounds', 'punt_downed', 'punt_fair_catch', 'kickoff_inside_twenty', 'kickoff_in_endzone', 'kickoff_out_of_bounds', 'kickoff_downed', 'kickoff_fair_catch', 'fumble_forced', 'fumble_not_forced', 'fumble_out_of_bounds', 'solo_tackle', 'safety', 'penalty', 'tackled_for_loss', 'fumble_lost', 'own_kickoff_recovery', 'own_kickoff_recovery_td', 'qb_hit', 'rush_attempt', 'pass_attempt', 'sack', 'touchdown', 'pass_touchdown', 'rush_touchdown', 'return_touchdown', 'extra_point_attempt', 'two_point_attempt', 'field_goal_attempt', 'kickoff_attempt', 'punt_attempt', 'fumble', 'complete_pass', 'assist_tackle', 'lateral_reception', 'lateral_rush', 'lateral_return', 'lateral_recovery', 'passer_player_id', 'passer_player_name', 'passing_yards', 'receiver_player_id', 'receiver_player_name', 'receiving_yards', 'rusher_player_id', 'rusher_player_name', 'rushing_yards', 'lateral_receiver_player_id', 'lateral_receiver_player_name', 'lateral_receiving_yards', 'lateral_rusher_player_id', 'lateral_rusher_player_name', 'lateral_rushing_yards', 'lateral_sack_player_id', 'lateral_sack_player_name', 'interception_player_id', 'interception_player_name', 'lateral_interception_player_id', 'lateral_interception_player_name', 'punt_returner_player_id', 'punt_returner_player_name', 'lateral_punt_returner_player_id', 'lateral_punt_returner_player_name', 'kickoff_returner_player_name', 'kickoff_returner_player_id', 'lateral_kickoff_returner_player_id', 'lateral_kickoff_returner_player_name', 'punter_player_id', 'punter_player_name', 'kicker_player_name', 'kicker_player_id', 'own_kickoff_recovery_player_id', 'own_kickoff_recovery_player_name', 'blocked_player_id', 'blocked_player_name', 'tackle_for_loss_1_player_id', 'tackle_for_loss_1_player_name', 'tackle_for_loss_2_player_id', 'tackle_for_loss_2_player_name', 'qb_hit_1_player_id', 'qb_hit_1_player_name', 'qb_hit_2_player_id', 'qb_hit_2_player_name', 'forced_fumble_player_1_team', 'forced_fumble_player_1_player_id', 'forced_fumble_player_1_player_name', 'forced_fumble_player_2_team', 'forced_fumble_player_2_player_id', 'forced_fumble_player_2_player_name', 'solo_tackle_1_team', 'solo_tackle_2_team', 'solo_tackle_1_player_id', 'solo_tackle_2_player_id', 'solo_tackle_1_player_name', 'solo_tackle_2_player_name', 'assist_tackle_1_player_id', 'assist_tackle_1_player_name', 'assist_tackle_1_team', 'assist_tackle_2_player_id', 'assist_tackle_2_player_name', 'assist_tackle_2_team', 'assist_tackle_3_player_id', 'assist_tackle_3_player_name', 'assist_tackle_3_team', 'assist_tackle_4_player_id', 'assist_tackle_4_player_name', 'assist_tackle_4_team', 'tackle_with_assist', 'tackle_with_assist_1_player_id', 'tackle_with_assist_1_player_name', 'tackle_with_assist_1_team', 'tackle_with_assist_2_player_id', 'tackle_with_assist_2_player_name', 'tackle_with_assist_2_team', 'pass_defense_1_player_id', 'pass_defense_1_player_name', 'pass_defense_2_player_id', 'pass_defense_2_player_name', 'fumbled_1_team', 'fumbled_1_player_id', 'fumbled_1_player_name', 'fumbled_2_player_id', 'fumbled_2_player_name', 'fumbled_2_team', 'fumble_recovery_1_team', 'fumble_recovery_1_yards', 'fumble_recovery_1_player_id', 'fumble_recovery_1_player_name', 'fumble_recovery_2_team', 'fumble_recovery_2_yards', 'fumble_recovery_2_player_id', 'fumble_recovery_2_player_name', 'sack_player_id', 'sack_player_name', 'half_sack_1_player_id', 'half_sack_1_player_name', 'half_sack_2_player_id', 'half_sack_2_player_name', 'return_team', 'return_yards', 'penalty_team', 'penalty_player_id', 'penalty_player_name', 'penalty_yards', 'replay_or_challenge', 'replay_or_challenge_result', 'penalty_type', 'defensive_two_point_attempt', 'defensive_two_point_conv', 'defensive_extra_point_attempt', 'defensive_extra_point_conv', 'safety_player_name', 'safety_player_id', 'season', 'cp', 'cpoe', 'series', 'series_success', 'series_result', 'order_sequence', 'start_time', 'time_of_day', 'stadium', 'weather', 'nfl_api_id', 'play_clock', 'play_deleted', 'play_type_nfl', 'special_teams_play', 'st_play_type', 'end_clock_time', 'end_yard_line', 'fixed_drive', 'fixed_drive_result', 'drive_real_start_time', 'drive_play_count', 'drive_time_of_possession', 'drive_first_downs', 'drive_inside20', 'drive_ended_with_score', 'drive_quarter_start', 'drive_quarter_end', 'drive_yards_penalized', 'drive_start_transition', 'drive_end_transition', 'drive_game_clock_start', 'drive_game_clock_end', 'drive_start_yard_line', 'drive_end_yard_line', 'drive_play_id_started', 'drive_play_id_ended', 'away_score', 'home_score', 'location', 'result', 'total', 'spread_line', 'total_line', 'div_game', 'roof', 'surface', 'temp', 'wind', 'home_coach', 'away_coach', 'stadium_id', 'game_stadium', 'aborted_play', 'success', 'passer', 'passer_jersey_number', 'rusher', 'rusher_jersey_number', 'receiver', 'receiver_jersey_number', 'pass', 'rush', 'first_down', 'special', 'play', 'passer_id', 'rusher_id', 'receiver_id', 'name', 'jersey_number', 'id', 'fantasy_player_name', 'fantasy_player_id', 'fantasy', 'fantasy_id', 'out_of_bounds', 'home_opening_kickoff', 'qb_epa', 'xyac_epa', 'xyac_mean_yardage', 'xyac_median_yardage', 'xyac_success', 'xyac_fd', 'xpass', 'pass_oe', 'old_game_id_x', 'nflverse_game_id', 'old_game_id_y', 'possession_team', 'offense_formation', 'offense_personnel', 'defenders_in_box', 'defense_personnel', 'number_of_pass_rushers', 'players_on_play', 'offense_players', 'defense_players', 'n_offense', 'n_defense', 'ngs_air_yards', 'time_to_throw', 'was_pressure', 'route', 'defense_man_zone_type', 'defense_coverage_type', 'offense_names', 'defense_names', 'offense_positions', 'defense_positions', 'offense_numbers', 'defense_numbers']\n"
     ]
    }
   ],
   "source": [
    "# Load play-by-play per season data\n",
    "pbp = []\n",
    "\n",
    "for file in glob.glob(RAW_DATA_PATH + \"pbp_*.parquet\"):\n",
    "    df = pd.read_parquet(file)\n",
    "    pbp.append(df)\n",
    "    \n",
    "# Concatenate all seasons data into a single DataFrame with season column\n",
    "pbp = pd.concat(pbp, ignore_index=True)\n",
    "pbp['season'] = pbp['game_id'].str[:4].astype(int)\n",
    "\n",
    "print(f\"Columns in the dataset: {pbp.columns.tolist()}\")\n",
    "print(f\"Number of seasons: {pbp['season'].nunique()}\")\n",
    "print(f\"Number of rows: {len(pbp)}\")\n"
   ]
  },
  {
   "cell_type": "markdown",
   "id": "2a5d2d36",
   "metadata": {},
   "source": [
    "### Feature classification"
   ]
  },
  {
   "cell_type": "code",
   "execution_count": 6,
   "id": "995bd6a8",
   "metadata": {},
   "outputs": [],
   "source": [
    "ID_COLS = [\n",
    "    \"play_id\",\"game_id\",\"old_game_id\",\"nfl_api_id\",\"nflverse_game_id\",\n",
    "    \"season\",\"season_type\",\"week\",\"game_date\",\"start_time\",\"time_of_day\"\n",
    "]\n",
    "TEAM_COLS = [\n",
    "    \"home_team\",\"away_team\",\"posteam\",\"defteam\",\"possession_team\",\n",
    "    \"posteam_type\",\"side_of_field\"\n",
    "]\n",
    "STATE_COLS = [\n",
    "    \"qtr\",\"quarter_seconds_remaining\",\"half_seconds_remaining\",\"game_seconds_remaining\",\n",
    "    \"game_half\",\"down\",\"ydstogo\",\"yardline_100\",\"goal_to_go\",\"goaltogo\",\n",
    "    \"score_differential\",\n",
    "    \"home_timeouts_remaining\",\"away_timeouts_remaining\",\n",
    "    \"posteam_timeouts_remaining\",\"defteam_timeouts_remaining\",\n",
    "    \"play_clock\"\n",
    "]\n",
    "ENV_COLS = [\"roof\",\"surface\",\"temp\",\"wind\",\"weather\",\"stadium_id\",\"game_stadium\",\"stadium\",\"location\"]\n",
    "DECISION_COLS = [\n",
    "    \"play_type\",\"play_type_nfl\",\"special_teams_play\",\"st_play_type\",\n",
    "    \"field_goal_attempt\",\"field_goal_result\",\"kick_distance\",\n",
    "    \"punt_attempt\",\"punt_blocked\",\"punt_inside_twenty\",\"punt_in_endzone\",\"punt_out_of_bounds\",\n",
    "    \"punt_downed\",\"punt_fair_catch\",\n",
    "    \"rush_attempt\",\"pass_attempt\",\"sack\",\n",
    "    \"yards_gained\",\"first_down\",\"first_down_rush\",\"first_down_pass\",\"first_down_penalty\",\n",
    "    \"fourth_down_converted\",\"fourth_down_failed\",\n",
    "    \"aborted_play\",\"penalty\",\"play_deleted\",\"desc\",\"time\",\"yrdln\",\n",
    "    \"end_clock_time\",\"end_yard_line\"\n",
    "]\n",
    "OUTCOME_COLS = [\n",
    "    \"ep\",\"epa\",\"wp\",\"wpa\",\"home_wp\",\"away_wp\",\"home_wp_post\",\"away_wp_post\",\n",
    "    \"score_differential_post\",\"success\"\n",
    "]\n",
    "PROB_COLS = [\n",
    "    \"no_score_prob\",\"opp_fg_prob\",\"opp_safety_prob\",\"opp_td_prob\",\n",
    "    \"fg_prob\",\"safety_prob\",\"td_prob\",\"extra_point_prob\",\"two_point_conversion_prob\",\n",
    "    \"xpass\",\"pass_oe\"\n",
    "]\n",
    "DRIVE_COLS = [\n",
    "    \"drive\",\"fixed_drive\",\"fixed_drive_result\",\"drive_play_count\",\"drive_time_of_possession\",\n",
    "    \"drive_first_downs\",\"drive_inside20\",\"drive_ended_with_score\",\"drive_quarter_start\",\"drive_quarter_end\",\n",
    "    \"drive_yards_penalized\",\"drive_start_transition\",\"drive_end_transition\",\n",
    "    \"drive_game_clock_start\",\"drive_game_clock_end\",\n",
    "    \"drive_start_yard_line\",\"drive_end_yard_line\",\n",
    "    \"series\",\"series_success\",\"series_result\",\"order_sequence\"\n",
    "]\n",
    "SCORE_COLS = [\n",
    "    \"total_home_score\",\"total_away_score\",\n",
    "    \"posteam_score\",\"defteam_score\",\n",
    "    \"posteam_score_post\",\"defteam_score_post\",\n",
    "    \"away_score\",\"home_score\"\n",
    "]\n",
    "VEGAS_COLS = [\"result\",\"spread_line\",\"total_line\",\"total\",\"vegas_wp\",\"vegas_home_wp\",\"vegas_wpa\",\"vegas_home_wpa\",\"div_game\"]\n",
    "CALL_COLS = [\"shotgun\",\"no_huddle\",\"qb_dropback\",\"qb_spike\",\"qb_kneel\",\"qb_scramble\"]\n"
   ]
  },
  {
   "cell_type": "code",
   "execution_count": null,
   "id": "cd057dfe",
   "metadata": {},
   "outputs": [],
   "source": []
  }
 ],
 "metadata": {
  "kernelspec": {
   "display_name": "nfl-fourthdown (3.9.6)",
   "language": "python",
   "name": "python3"
  },
  "language_info": {
   "codemirror_mode": {
    "name": "ipython",
    "version": 3
   },
   "file_extension": ".py",
   "mimetype": "text/x-python",
   "name": "python",
   "nbconvert_exporter": "python",
   "pygments_lexer": "ipython3",
   "version": "3.9.6"
  }
 },
 "nbformat": 4,
 "nbformat_minor": 5
}
